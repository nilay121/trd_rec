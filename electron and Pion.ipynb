{
 "cells": [
  {
   "cell_type": "code",
   "execution_count": 1,
   "metadata": {},
   "outputs": [],
   "source": [
    "import uproot4\n",
    "from matplotlib import pyplot as plt\n",
    "from hist import Hist\n",
    "import hist\n",
    "import awkward as ak\n",
    "import numpy as np\n",
    "import matplotlib.pyplot as plt\n",
    "from matplotlib.gridspec import GridSpec\n",
    "import matplotlib.image as mpimg\n",
    "import seaborn as sns\n",
    "import pandas as pd\n",
    "import numpy as np"
   ]
  },
  {
   "cell_type": "markdown",
   "metadata": {},
   "source": [
    "### Reading the root file"
   ]
  },
  {
   "cell_type": "code",
   "execution_count": 2,
   "metadata": {},
   "outputs": [
    {
     "name": "stdout",
     "output_type": "stream",
     "text": [
      "Total entries is 5000\n"
     ]
    }
   ],
   "source": [
    "file=uproot4.open(\"testpi.root\")\n",
    "\n",
    "tree= file[\"events\"]\n",
    "\n",
    "entries=tree.num_entries\n",
    "\n",
    "print(f\"Total entries is {entries}\")"
   ]
  },
  {
   "cell_type": "code",
   "execution_count": 3,
   "metadata": {},
   "outputs": [],
   "source": [
    "pos_x= tree['ForwardTRDHits/ForwardTRDHits.position.x'].array()\n",
    "pos_y= tree['ForwardTRDHits/ForwardTRDHits.position.y'].array()\n",
    "pos_z= tree['ForwardTRDHits/ForwardTRDHits.position.z'].array()\n",
    "ene= tree['ForwardTRDHits/ForwardTRDHits.energyDeposit'].array()*(10**6)\n",
    "length=tree['ForwardTRDHits/ForwardTRDHits.length'].array()\n",
    "\n",
    "\n",
    "flat_posX=ak.flatten(pos_x)\n",
    "flat_posY=ak.flatten(pos_y)\n",
    "flat_posZ=ak.flatten(pos_z)\n",
    "flat_ene=ak.flatten(ene) #to keV\n",
    "flat_length=ak.flatten(length)"
   ]
  },
  {
   "cell_type": "markdown",
   "metadata": {},
   "source": [
    "### Reading root file for e-"
   ]
  },
  {
   "cell_type": "code",
   "execution_count": 5,
   "metadata": {},
   "outputs": [
    {
     "name": "stdout",
     "output_type": "stream",
     "text": [
      "Total entries is 5000\n"
     ]
    }
   ],
   "source": [
    "file=uproot4.open(\"testelec.root\")\n",
    "\n",
    "tree= file[\"events\"]\n",
    "\n",
    "entries=tree.num_entries\n",
    "\n",
    "print(f\"Total entries is {entries}\")"
   ]
  },
  {
   "cell_type": "code",
   "execution_count": 6,
   "metadata": {},
   "outputs": [],
   "source": [
    "# pos_x= tree['ForwardTRDHits/ForwardTRDHits.position.x'].array()\n",
    "# pos_y= tree['ForwardTRDHits/ForwardTRDHits.position.y'].array()\n",
    "pos_zE= tree['ForwardTRDHits/ForwardTRDHits.position.z'].array()\n",
    "ene_E= tree['ForwardTRDHits/ForwardTRDHits.energyDeposit'].array()*(10**6)\n",
    "length_E=tree['ForwardTRDHits/ForwardTRDHits.length'].array()\n",
    "\n",
    "\n",
    "# flat_posX=ak.flatten(pos_x)\n",
    "# flat_posY=ak.flatten(pos_y)\n",
    "flat_posZE=ak.flatten(pos_zE)\n",
    "flat_eneE=ak.flatten(ene_E) #to keV\n",
    "flat_lengthE=ak.flatten(length_E)\n"
   ]
  },
  {
   "cell_type": "code",
   "execution_count": 7,
   "metadata": {},
   "outputs": [
    {
     "name": "stdout",
     "output_type": "stream",
     "text": [
      "The flattened shape for pions is 20253\n",
      "The flattened shape for electrons is 16032\n"
     ]
    }
   ],
   "source": [
    "print(f\"The flattened shape for pions is {len(flat_posZ)}\")\n",
    "print(f\"The flattened shape for electrons is {len(flat_posZE)}\")"
   ]
  },
  {
   "cell_type": "code",
   "execution_count": 8,
   "metadata": {},
   "outputs": [
    {
     "data": {
      "text/plain": [
       "2047.3853492987562"
      ]
     },
     "execution_count": 8,
     "metadata": {},
     "output_type": "execute_result"
    }
   ],
   "source": [
    "max(flat_ene)"
   ]
  },
  {
   "cell_type": "markdown",
   "metadata": {},
   "source": [
    "### Energy deposit for Pion & electron "
   ]
  },
  {
   "cell_type": "code",
   "execution_count": 9,
   "metadata": {},
   "outputs": [
    {
     "data": {
      "image/png": "[encoded data removed]",
      "text/plain": [
       "<Figure size 432x360 with 1 Axes>"
      ]
     },
     "metadata": {
      "needs_background": "light"
     },
     "output_type": "display_data"
    }
   ],
   "source": [
    "#energyDeposit of electron vs pion\n",
    "\n",
    "plt.figure(figsize=(6,5))\n",
    "h_pion = Hist(\n",
    "    hist.axis.Regular(50, 0, 40, name=\"energyDeposit(KeV)\", label=\"energyDeposit(KeV)\", flow=False),\n",
    ")\n",
    "h_pion.fill(flat_ene)\n",
    "\n",
    "\n",
    "h_electron = Hist(\n",
    "    hist.axis.Regular(50, 0, 40, name=\"energyDeposit(KeV)\", label=\"energyDeposit(KeV)\", flow=False),\n",
    ")\n",
    "h_electron.fill(flat_eneE)\n",
    "\n",
    "s=hist.Stack.from_dict({\"ELectron\": h_electron, \"Pion\": h_pion})\n",
    "s.plot()\n",
    "plt.ylabel(\"count\")\n",
    "plt.legend()\n",
    "plt.title(\"Energy Deposit for e- and pi-\")\n",
    "plt.show()\n"
   ]
  },
  {
   "cell_type": "markdown",
   "metadata": {},
   "source": [
    "### Randomly sampling pions"
   ]
  },
  {
   "cell_type": "code",
   "execution_count": 10,
   "metadata": {},
   "outputs": [],
   "source": [
    "#randomly sampling\n",
    "data={\n",
    "    \"position Z pion\":flat_posZ,\n",
    "    \"energyDeposit_pion\":flat_ene\n",
    "}\n",
    "df_pion=pd.DataFrame(data=data)\n",
    "df_pion=df_pion.sample(n=len(flat_eneE),random_state=32)"
   ]
  },
  {
   "cell_type": "markdown",
   "metadata": {},
   "source": [
    "### Energy deposit of electrons and pions"
   ]
  },
  {
   "cell_type": "code",
   "execution_count": 11,
   "metadata": {},
   "outputs": [
    {
     "data": {
      "image/png": "[encoded data removed]",
      "text/plain": [
       "<Figure size 432x360 with 1 Axes>"
      ]
     },
     "metadata": {
      "needs_background": "light"
     },
     "output_type": "display_data"
    }
   ],
   "source": [
    "#energyDeposit of electron and pion\n",
    "\n",
    "plt.figure(figsize=(6,5))\n",
    "h_pion = Hist(\n",
    "    hist.axis.Regular(40, 0, 40, name=\"energyDeposit(KeV)\", label=\"energyDeposit(KeV)\", flow=False),\n",
    ")\n",
    "h_pion.fill(df_pion['energyDeposit_pion'])\n",
    "\n",
    "\n",
    "h_electron = Hist(\n",
    "    hist.axis.Regular(40, 0, 40, name=\"energyDeposit(KeV)\", label=\"energyDeposit(KeV)\", flow=False),\n",
    ")\n",
    "h_electron.fill(flat_eneE)\n",
    "\n",
    "s=hist.Stack.from_dict({\"ELectron\": h_electron, \"Pion\": h_pion})\n",
    "s.plot()\n",
    "plt.ylabel(\"count\")\n",
    "plt.legend()\n",
    "plt.title(\"Energy Deposit for e- and pi-\")\n",
    "plt.show()\n"
   ]
  },
  {
   "cell_type": "code",
   "execution_count": 14,
   "metadata": {},
   "outputs": [
    {
     "data": {
      "image/png": "[encoded data removed]",
      "text/plain": [
       "<Figure size 576x360 with 2 Axes>"
      ]
     },
     "metadata": {
      "needs_background": "light"
     },
     "output_type": "display_data"
    }
   ],
   "source": [
    "# energyDeposit vs Z (for electron and pion)\n",
    "plt.figure(figsize=(8,5))\n",
    "h2 = Hist.new.Reg(50,3377, 3420, name=\"x\",label=\"Z(mm)\",flow=False).Reg(\n",
    "    50, 0, 20, name=\"y\",label=\"energyDeposit(keV)\",flow=False).Double()\n",
    "\n",
    "h2.fill(x=df_pion['position Z pion'], y=df_pion['energyDeposit_pion'])\n",
    "h2.fill(x=flat_posZE, y=flat_eneE)\n",
    "h2.plot()\n",
    "plt.legend(['pi-','e-'])\n",
    "plt.show()"
   ]
  },
  {
   "cell_type": "markdown",
   "metadata": {},
   "source": [
    "### Length (Electron & Pion)"
   ]
  },
  {
   "cell_type": "code",
   "execution_count": 15,
   "metadata": {},
   "outputs": [
    {
     "data": {
      "image/png": "[encoded data removed]",
      "text/plain": [
       "<Figure size 432x360 with 1 Axes>"
      ]
     },
     "metadata": {
      "needs_background": "light"
     },
     "output_type": "display_data"
    }
   ],
   "source": [
    "#Length of electron vs pion\n",
    "\n",
    "plt.figure(figsize=(6,5))\n",
    "h_pion = Hist(\n",
    "    hist.axis.Regular(50, 0, 30, name=\"length(mm)\", label=\"length(mm)\", flow=False),\n",
    ")\n",
    "h_pion.fill(flat_length)\n",
    "\n",
    "\n",
    "h_electron = Hist(\n",
    "    hist.axis.Regular(50, 0, 30, name=\"length(mm)\", label=\"length(mm)\", flow=False),\n",
    ")\n",
    "h_electron.fill(flat_lengthE)\n",
    "\n",
    "s=hist.Stack.from_dict({\"ELectron\": h_electron, \"Pion\": h_pion})\n",
    "s.plot()\n",
    "plt.ylabel(\"count\")\n",
    "plt.legend()\n",
    "plt.title(\"Energy Deposit for e- and pi-\")\n",
    "plt.show()\n"
   ]
  },
  {
   "cell_type": "markdown",
   "metadata": {},
   "source": [
    "### Comparing electrons and pions"
   ]
  },
  {
   "cell_type": "code",
   "execution_count": 16,
   "metadata": {},
   "outputs": [],
   "source": [
    "data={\n",
    "    \"energyDeposit_elec\":flat_eneE\n",
    "}\n",
    "df=pd.DataFrame(data=data)\n",
    "\n",
    "df[\"energyDeposit_pion\"]=df_pion[\"energyDeposit_pion\"]"
   ]
  },
  {
   "cell_type": "code",
   "execution_count": 17,
   "metadata": {},
   "outputs": [
    {
     "data": {
      "text/html": [
       "<div>\n",
       "<style scoped>\n",
       "    .dataframe tbody tr th:only-of-type {\n",
       "        vertical-align: middle;\n",
       "    }\n",
       "\n",
       "    .dataframe tbody tr th {\n",
       "        vertical-align: top;\n",
       "    }\n",
       "\n",
       "    .dataframe thead th {\n",
       "        text-align: right;\n",
       "    }\n",
       "</style>\n",
       "<table border=\"1\" class=\"dataframe\">\n",
       "  <thead>\n",
       "    <tr style=\"text-align: right;\">\n",
       "      <th></th>\n",
       "      <th>energyDeposit_elec</th>\n",
       "      <th>energyDeposit_pion</th>\n",
       "    </tr>\n",
       "  </thead>\n",
       "  <tbody>\n",
       "    <tr>\n",
       "      <th>count</th>\n",
       "      <td>16032.000000</td>\n",
       "      <td>12718.000000</td>\n",
       "    </tr>\n",
       "    <tr>\n",
       "      <th>mean</th>\n",
       "      <td>9.480423</td>\n",
       "      <td>8.418027</td>\n",
       "    </tr>\n",
       "    <tr>\n",
       "      <th>std</th>\n",
       "      <td>11.333155</td>\n",
       "      <td>20.293628</td>\n",
       "    </tr>\n",
       "    <tr>\n",
       "      <th>min</th>\n",
       "      <td>1.000439</td>\n",
       "      <td>1.000540</td>\n",
       "    </tr>\n",
       "    <tr>\n",
       "      <th>25%</th>\n",
       "      <td>2.079357</td>\n",
       "      <td>1.832386</td>\n",
       "    </tr>\n",
       "    <tr>\n",
       "      <th>50%</th>\n",
       "      <td>6.132639</td>\n",
       "      <td>3.732005</td>\n",
       "    </tr>\n",
       "    <tr>\n",
       "      <th>75%</th>\n",
       "      <td>13.529284</td>\n",
       "      <td>9.970883</td>\n",
       "    </tr>\n",
       "    <tr>\n",
       "      <th>max</th>\n",
       "      <td>173.167537</td>\n",
       "      <td>1241.174635</td>\n",
       "    </tr>\n",
       "  </tbody>\n",
       "</table>\n",
       "</div>"
      ],
      "text/plain": [
       "       energyDeposit_elec  energyDeposit_pion\n",
       "count        16032.000000        12718.000000\n",
       "mean             9.480423            8.418027\n",
       "std             11.333155           20.293628\n",
       "min              1.000439            1.000540\n",
       "25%              2.079357            1.832386\n",
       "50%              6.132639            3.732005\n",
       "75%             13.529284            9.970883\n",
       "max            173.167537         1241.174635"
      ]
     },
     "execution_count": 17,
     "metadata": {},
     "output_type": "execute_result"
    }
   ],
   "source": [
    "df.describe()"
   ]
  },
  {
   "cell_type": "code",
   "execution_count": null,
   "metadata": {},
   "outputs": [],
   "source": []
  },
  {
   "cell_type": "code",
   "execution_count": null,
   "metadata": {},
   "outputs": [],
   "source": []
  },
  {
   "cell_type": "code",
   "execution_count": null,
   "metadata": {},
   "outputs": [],
   "source": []
  }
 ],
 "metadata": {
  "kernelspec": {
   "display_name": "Python 3",
   "language": "python",
   "name": "python3"
  },
  "language_info": {
   "codemirror_mode": {
    "name": "ipython",
    "version": 3
   },
   "file_extension": ".py",
   "mimetype": "text/x-python",
   "name": "python",
   "nbconvert_exporter": "python",
   "pygments_lexer": "ipython3",
   "version": "3.8.10"
  }
 },
 "nbformat": 4,
 "nbformat_minor": 4
}
