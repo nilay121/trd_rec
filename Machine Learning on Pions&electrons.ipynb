{
 "cells": [
  {
   "cell_type": "code",
   "execution_count": 1,
   "metadata": {},
   "outputs": [],
   "source": [
    "import pandas as pd\n",
    "import numpy as np\n",
    "import uproot4\n",
    "import awkward as ak\n",
    "import matplotlib.pyplot as plt\n",
    "import seaborn as sns\n",
    "from sklearn.preprocessing import StandardScaler\n",
    "from sklearn.model_selection import train_test_split\n",
    "from sklearn.linear_model import LogisticRegression\n",
    "from sklearn.metrics import plot_confusion_matrix\n",
    "from sklearn.metrics import classification_report\n",
    "from sklearn.ensemble import RandomForestClassifier\n",
    "from sklearn.tree import DecisionTreeClassifier\n",
    "import xgboost as xgb\n",
    "from sklearn.metrics import roc_curve"
   ]
  },
  {
   "cell_type": "code",
   "execution_count": 2,
   "metadata": {},
   "outputs": [],
   "source": [
    "#Loading the trees\n",
    "file_pion=uproot4.open(\"testpi.root\")\n",
    "tree_pion=file_pion['events']\n",
    "\n",
    "file_elec=uproot4.open(\"testelec.root\")\n",
    "tree_elec=file_elec['events']"
   ]
  },
  {
   "cell_type": "code",
   "execution_count": 3,
   "metadata": {},
   "outputs": [],
   "source": [
    "#For Pions\n",
    "posX_pion= tree_pion['ForwardTRDHits/ForwardTRDHits.position.x'].array()\n",
    "posY_pion= tree_pion['ForwardTRDHits/ForwardTRDHits.position.y'].array()\n",
    "posZ_pion= tree_pion['ForwardTRDHits/ForwardTRDHits.position.z'].array()\n",
    "ene_pion= tree_pion['ForwardTRDHits/ForwardTRDHits.energyDeposit'].array()*(10**6)\n",
    "momX_pion= tree_pion['ForwardTRDHits/ForwardTRDHits.momentum.x'].array()\n",
    "momY_pion= tree_pion['ForwardTRDHits/ForwardTRDHits.momentum.y'].array()\n",
    "momZ_pion= tree_pion['ForwardTRDHits/ForwardTRDHits.momentum.z'].array()\n",
    "length_pion= tree_pion['ForwardTRDHits/ForwardTRDHits.length'].array()\n",
    "time_pion= tree_pion['ForwardTRDHits/ForwardTRDHits.truth.time'].array()\n",
    "\n",
    "\n",
    "flatPosX_pion=ak.flatten(posX_pion)\n",
    "flatPosY_pion=ak.flatten(posY_pion)\n",
    "flatPosZ_pion=ak.flatten(posZ_pion)\n",
    "flatEne_pion=ak.flatten(ene_pion) #to keV\n",
    "flatMomX_pion=ak.flatten(momX_pion)\n",
    "flatMomY_pion=ak.flatten(momY_pion)\n",
    "flatMomZ_pion=ak.flatten(momZ_pion)\n",
    "flatLength_pion=ak.flatten(length_pion)\n",
    "flatTime_pion=ak.flatten(time_pion)"
   ]
  },
  {
   "cell_type": "code",
   "execution_count": 4,
   "metadata": {},
   "outputs": [],
   "source": [
    "#For electrons\n",
    "posX_elec= tree_elec['ForwardTRDHits/ForwardTRDHits.position.x'].array()\n",
    "posY_elec= tree_elec['ForwardTRDHits/ForwardTRDHits.position.y'].array()\n",
    "posZ_elec= tree_elec['ForwardTRDHits/ForwardTRDHits.position.z'].array()\n",
    "ene_elec= tree_elec['ForwardTRDHits/ForwardTRDHits.energyDeposit'].array()*(10**6)\n",
    "momX_elec= tree_elec['ForwardTRDHits/ForwardTRDHits.momentum.x'].array()\n",
    "momY_elec= tree_elec['ForwardTRDHits/ForwardTRDHits.momentum.y'].array()\n",
    "momZ_elec= tree_elec['ForwardTRDHits/ForwardTRDHits.momentum.z'].array()\n",
    "length_elec= tree_elec['ForwardTRDHits/ForwardTRDHits.length'].array()\n",
    "time_elec= tree_elec['ForwardTRDHits/ForwardTRDHits.truth.time'].array()\n",
    "\n",
    "flatPosX_elec=ak.flatten(posX_elec)\n",
    "flatPosY_elec=ak.flatten(posY_elec)\n",
    "flatPosZ_elec=ak.flatten(posZ_elec)\n",
    "flatEne_elec=ak.flatten(ene_elec) #to keV\n",
    "flatMomX_elec=ak.flatten(momX_elec)\n",
    "flatMomY_elec=ak.flatten(momY_elec)\n",
    "flatMomZ_elec=ak.flatten(momZ_elec)\n",
    "flatLength_elec=ak.flatten(length_elec)\n",
    "flatTime_elec=ak.flatten(time_elec)"
   ]
  },
  {
   "cell_type": "code",
   "execution_count": 5,
   "metadata": {},
   "outputs": [
    {
     "name": "stdout",
     "output_type": "stream",
     "text": [
      "The length of flattened energyDeposit for Pion is 20253\n",
      "The length of flattened energyDeposit for Electron is 16032\n"
     ]
    }
   ],
   "source": [
    "print(f\"The length of flattened energyDeposit for Pion is {len(flatEne_pion)}\")\n",
    "print(f\"The length of flattened energyDeposit for Electron is {len(flatEne_elec)}\")"
   ]
  },
  {
   "cell_type": "markdown",
   "metadata": {},
   "source": [
    "### Randomly sampling Pions"
   ]
  },
  {
   "cell_type": "code",
   "execution_count": 6,
   "metadata": {},
   "outputs": [],
   "source": [
    "#randomly sampling\n",
    "data={\n",
    "    \"position Z pion\":flatPosZ_pion,\n",
    "    \"position X pion\":flatPosX_pion,\n",
    "    \"position Y pion\":flatPosY_pion,\n",
    "    \"momentum X pion\":flatMomX_pion,\n",
    "    \"momentum Y pion\":flatMomY_pion,\n",
    "    \"momentum Z pion\":flatMomZ_pion,\n",
    "    \"length pion\":flatLength_pion,\n",
    "    \"time pion\":flatTime_pion,\n",
    "    \"energyDeposit_pion\":flatEne_pion\n",
    "}\n",
    "df_pion=pd.DataFrame(data=data)\n",
    "df_pion=df_pion.sample(n=len(flatEne_elec),random_state=32)"
   ]
  },
  {
   "cell_type": "code",
   "execution_count": null,
   "metadata": {},
   "outputs": [],
   "source": []
  },
  {
   "cell_type": "markdown",
   "metadata": {},
   "source": [
    "### Creating DataFrame"
   ]
  },
  {
   "cell_type": "markdown",
   "metadata": {},
   "source": [
    "In the target column we consider 1 as Pion and 0 as electron"
   ]
  },
  {
   "cell_type": "code",
   "execution_count": 7,
   "metadata": {},
   "outputs": [],
   "source": [
    "target_pion=[]\n",
    "target_elec=[]\n",
    "for i in range(0,len(flatEne_elec)):\n",
    "    target_pion.append(1)\n",
    "\n",
    "for j in range(0,len(flatEne_elec)):\n",
    "    target_elec.append(0)"
   ]
  },
  {
   "cell_type": "code",
   "execution_count": 8,
   "metadata": {},
   "outputs": [],
   "source": [
    "#Merging target for both pions and electrons\n",
    "target=target_pion+target_elec\n",
    "\n",
    "#Merging energyDeposit for electrons and pions\n",
    "energyDepo=list(df_pion[\"energyDeposit_pion\"])+list(flatEne_elec)\n",
    "\n",
    "#Merging posZ\n",
    "posZ=list(df_pion[\"position Z pion\"])+list(flatPosZ_elec)\n",
    "\n",
    "#Merging posX\n",
    "posX=list(df_pion[\"position X pion\"])+list(flatPosX_elec)\n",
    "\n",
    "#Merging posY\n",
    "posY=list(df_pion[\"position Y pion\"])+list(flatPosY_elec)\n",
    "\n",
    "#Merging MomentumZ\n",
    "momZ=list(df_pion[\"momentum Z pion\"])+list(flatMomZ_elec)\n",
    "\n",
    "#Merging Length\n",
    "length=list(df_pion[\"length pion\"])+list(flatLength_elec)\n",
    "\n",
    "#Merging Time\n",
    "time=list(df_pion[\"time pion\"])+list(flatTime_elec)"
   ]
  },
  {
   "cell_type": "code",
   "execution_count": 9,
   "metadata": {},
   "outputs": [
    {
     "data": {
      "text/html": [
       "<div>\n",
       "<style scoped>\n",
       "    .dataframe tbody tr th:only-of-type {\n",
       "        vertical-align: middle;\n",
       "    }\n",
       "\n",
       "    .dataframe tbody tr th {\n",
       "        vertical-align: top;\n",
       "    }\n",
       "\n",
       "    .dataframe thead th {\n",
       "        text-align: right;\n",
       "    }\n",
       "</style>\n",
       "<table border=\"1\" class=\"dataframe\">\n",
       "  <thead>\n",
       "    <tr style=\"text-align: right;\">\n",
       "      <th></th>\n",
       "      <th>PositionX</th>\n",
       "      <th>PositionY</th>\n",
       "      <th>PositionZ</th>\n",
       "      <th>MomentumZ</th>\n",
       "      <th>Length</th>\n",
       "      <th>Time</th>\n",
       "      <th>EnergyDeposit</th>\n",
       "      <th>target</th>\n",
       "    </tr>\n",
       "  </thead>\n",
       "  <tbody>\n",
       "    <tr>\n",
       "      <th>0</th>\n",
       "      <td>1043.796149</td>\n",
       "      <td>264.588592</td>\n",
       "      <td>3399.425453</td>\n",
       "      <td>-0.000001</td>\n",
       "      <td>0.127893</td>\n",
       "      <td>11.903850</td>\n",
       "      <td>2.220232</td>\n",
       "      <td>1</td>\n",
       "    </tr>\n",
       "    <tr>\n",
       "      <th>1</th>\n",
       "      <td>-879.692559</td>\n",
       "      <td>150.063910</td>\n",
       "      <td>3409.759693</td>\n",
       "      <td>5.896873</td>\n",
       "      <td>20.013366</td>\n",
       "      <td>11.771055</td>\n",
       "      <td>12.511207</td>\n",
       "      <td>1</td>\n",
       "    </tr>\n",
       "    <tr>\n",
       "      <th>2</th>\n",
       "      <td>626.372450</td>\n",
       "      <td>966.543747</td>\n",
       "      <td>3408.210721</td>\n",
       "      <td>5.829998</td>\n",
       "      <td>19.607837</td>\n",
       "      <td>12.013022</td>\n",
       "      <td>9.300985</td>\n",
       "      <td>1</td>\n",
       "    </tr>\n",
       "    <tr>\n",
       "      <th>3</th>\n",
       "      <td>-369.034246</td>\n",
       "      <td>553.276918</td>\n",
       "      <td>3399.287576</td>\n",
       "      <td>0.000017</td>\n",
       "      <td>0.086746</td>\n",
       "      <td>12.986861</td>\n",
       "      <td>1.672963</td>\n",
       "      <td>1</td>\n",
       "    </tr>\n",
       "    <tr>\n",
       "      <th>4</th>\n",
       "      <td>-296.981779</td>\n",
       "      <td>1073.273442</td>\n",
       "      <td>3417.385500</td>\n",
       "      <td>5.863062</td>\n",
       "      <td>4.182081</td>\n",
       "      <td>12.010161</td>\n",
       "      <td>2.652883</td>\n",
       "      <td>1</td>\n",
       "    </tr>\n",
       "    <tr>\n",
       "      <th>...</th>\n",
       "      <td>...</td>\n",
       "      <td>...</td>\n",
       "      <td>...</td>\n",
       "      <td>...</td>\n",
       "      <td>...</td>\n",
       "      <td>...</td>\n",
       "      <td>...</td>\n",
       "      <td>...</td>\n",
       "    </tr>\n",
       "    <tr>\n",
       "      <th>32059</th>\n",
       "      <td>-850.760614</td>\n",
       "      <td>78.821535</td>\n",
       "      <td>3408.885500</td>\n",
       "      <td>5.479174</td>\n",
       "      <td>21.768883</td>\n",
       "      <td>11.764551</td>\n",
       "      <td>9.647456</td>\n",
       "      <td>0</td>\n",
       "    </tr>\n",
       "    <tr>\n",
       "      <th>32060</th>\n",
       "      <td>936.028777</td>\n",
       "      <td>-469.234421</td>\n",
       "      <td>3388.885500</td>\n",
       "      <td>4.820672</td>\n",
       "      <td>22.139323</td>\n",
       "      <td>11.884257</td>\n",
       "      <td>14.316389</td>\n",
       "      <td>0</td>\n",
       "    </tr>\n",
       "    <tr>\n",
       "      <th>32061</th>\n",
       "      <td>480.891468</td>\n",
       "      <td>-921.416888</td>\n",
       "      <td>3408.885500</td>\n",
       "      <td>5.443094</td>\n",
       "      <td>21.886357</td>\n",
       "      <td>11.904079</td>\n",
       "      <td>13.912381</td>\n",
       "      <td>0</td>\n",
       "    </tr>\n",
       "    <tr>\n",
       "      <th>32062</th>\n",
       "      <td>479.845141</td>\n",
       "      <td>-920.187383</td>\n",
       "      <td>3403.371079</td>\n",
       "      <td>-0.000003</td>\n",
       "      <td>0.107757</td>\n",
       "      <td>11.881023</td>\n",
       "      <td>1.960644</td>\n",
       "      <td>0</td>\n",
       "    </tr>\n",
       "    <tr>\n",
       "      <th>32063</th>\n",
       "      <td>303.320016</td>\n",
       "      <td>784.408526</td>\n",
       "      <td>3408.885500</td>\n",
       "      <td>5.157090</td>\n",
       "      <td>21.548946</td>\n",
       "      <td>11.750995</td>\n",
       "      <td>13.127594</td>\n",
       "      <td>0</td>\n",
       "    </tr>\n",
       "  </tbody>\n",
       "</table>\n",
       "<p>32064 rows × 8 columns</p>\n",
       "</div>"
      ],
      "text/plain": [
       "         PositionX    PositionY    PositionZ  MomentumZ     Length       Time  \\\n",
       "0      1043.796149   264.588592  3399.425453  -0.000001   0.127893  11.903850   \n",
       "1      -879.692559   150.063910  3409.759693   5.896873  20.013366  11.771055   \n",
       "2       626.372450   966.543747  3408.210721   5.829998  19.607837  12.013022   \n",
       "3      -369.034246   553.276918  3399.287576   0.000017   0.086746  12.986861   \n",
       "4      -296.981779  1073.273442  3417.385500   5.863062   4.182081  12.010161   \n",
       "...            ...          ...          ...        ...        ...        ...   \n",
       "32059  -850.760614    78.821535  3408.885500   5.479174  21.768883  11.764551   \n",
       "32060   936.028777  -469.234421  3388.885500   4.820672  22.139323  11.884257   \n",
       "32061   480.891468  -921.416888  3408.885500   5.443094  21.886357  11.904079   \n",
       "32062   479.845141  -920.187383  3403.371079  -0.000003   0.107757  11.881023   \n",
       "32063   303.320016   784.408526  3408.885500   5.157090  21.548946  11.750995   \n",
       "\n",
       "       EnergyDeposit  target  \n",
       "0           2.220232       1  \n",
       "1          12.511207       1  \n",
       "2           9.300985       1  \n",
       "3           1.672963       1  \n",
       "4           2.652883       1  \n",
       "...              ...     ...  \n",
       "32059       9.647456       0  \n",
       "32060      14.316389       0  \n",
       "32061      13.912381       0  \n",
       "32062       1.960644       0  \n",
       "32063      13.127594       0  \n",
       "\n",
       "[32064 rows x 8 columns]"
      ]
     },
     "execution_count": 9,
     "metadata": {},
     "output_type": "execute_result"
    }
   ],
   "source": [
    "#Creating Dataframe\n",
    "data={\n",
    "    \"PositionX\":posX,\n",
    "    \"PositionY\":posY,\n",
    "    \"PositionZ\":posZ,\n",
    "    \"MomentumZ\":momZ,\n",
    "    \"Length\":length,\n",
    "    \"Time\":time,\n",
    "    'EnergyDeposit':energyDepo,\n",
    "    \"target\":target\n",
    "\n",
    "}\n",
    "\n",
    "df=pd.DataFrame(data=data)\n",
    "df"
   ]
  },
  {
   "cell_type": "markdown",
   "metadata": {},
   "source": [
    "Since the target column,is not randomly distributed so that might not help the model that much,so lets sample the whole data randomly"
   ]
  },
  {
   "cell_type": "code",
   "execution_count": 10,
   "metadata": {},
   "outputs": [],
   "source": [
    "df=df.sample(frac=1,random_state=53)"
   ]
  },
  {
   "cell_type": "code",
   "execution_count": 11,
   "metadata": {},
   "outputs": [
    {
     "data": {
      "text/html": [
       "<div>\n",
       "<style scoped>\n",
       "    .dataframe tbody tr th:only-of-type {\n",
       "        vertical-align: middle;\n",
       "    }\n",
       "\n",
       "    .dataframe tbody tr th {\n",
       "        vertical-align: top;\n",
       "    }\n",
       "\n",
       "    .dataframe thead th {\n",
       "        text-align: right;\n",
       "    }\n",
       "</style>\n",
       "<table border=\"1\" class=\"dataframe\">\n",
       "  <thead>\n",
       "    <tr style=\"text-align: right;\">\n",
       "      <th></th>\n",
       "      <th>PositionX</th>\n",
       "      <th>PositionY</th>\n",
       "      <th>PositionZ</th>\n",
       "      <th>MomentumZ</th>\n",
       "      <th>Length</th>\n",
       "      <th>Time</th>\n",
       "      <th>EnergyDeposit</th>\n",
       "      <th>target</th>\n",
       "    </tr>\n",
       "  </thead>\n",
       "  <tbody>\n",
       "    <tr>\n",
       "      <th>25397</th>\n",
       "      <td>1235.991838</td>\n",
       "      <td>172.931527</td>\n",
       "      <td>3398.407500</td>\n",
       "      <td>-0.000014</td>\n",
       "      <td>0.016439</td>\n",
       "      <td>14.097678</td>\n",
       "      <td>1.200348</td>\n",
       "      <td>0</td>\n",
       "    </tr>\n",
       "    <tr>\n",
       "      <th>14248</th>\n",
       "      <td>723.459211</td>\n",
       "      <td>686.403874</td>\n",
       "      <td>3388.885500</td>\n",
       "      <td>5.880415</td>\n",
       "      <td>21.900713</td>\n",
       "      <td>11.825751</td>\n",
       "      <td>9.706507</td>\n",
       "      <td>1</td>\n",
       "    </tr>\n",
       "    <tr>\n",
       "      <th>29990</th>\n",
       "      <td>152.305184</td>\n",
       "      <td>-780.851814</td>\n",
       "      <td>3388.791721</td>\n",
       "      <td>0.000004</td>\n",
       "      <td>0.066142</td>\n",
       "      <td>11.616715</td>\n",
       "      <td>1.366802</td>\n",
       "      <td>0</td>\n",
       "    </tr>\n",
       "    <tr>\n",
       "      <th>26120</th>\n",
       "      <td>1056.282924</td>\n",
       "      <td>104.445794</td>\n",
       "      <td>3400.651914</td>\n",
       "      <td>-0.000008</td>\n",
       "      <td>0.407024</td>\n",
       "      <td>11.891568</td>\n",
       "      <td>4.862111</td>\n",
       "      <td>0</td>\n",
       "    </tr>\n",
       "    <tr>\n",
       "      <th>26632</th>\n",
       "      <td>-15.882625</td>\n",
       "      <td>168.011956</td>\n",
       "      <td>3382.569851</td>\n",
       "      <td>0.000044</td>\n",
       "      <td>0.784310</td>\n",
       "      <td>18.588997</td>\n",
       "      <td>10.098193</td>\n",
       "      <td>0</td>\n",
       "    </tr>\n",
       "    <tr>\n",
       "      <th>...</th>\n",
       "      <td>...</td>\n",
       "      <td>...</td>\n",
       "      <td>...</td>\n",
       "      <td>...</td>\n",
       "      <td>...</td>\n",
       "      <td>...</td>\n",
       "      <td>...</td>\n",
       "      <td>...</td>\n",
       "    </tr>\n",
       "    <tr>\n",
       "      <th>14075</th>\n",
       "      <td>-302.031591</td>\n",
       "      <td>452.858590</td>\n",
       "      <td>3405.923825</td>\n",
       "      <td>-0.000001</td>\n",
       "      <td>0.082587</td>\n",
       "      <td>28.838355</td>\n",
       "      <td>1.613445</td>\n",
       "      <td>1</td>\n",
       "    </tr>\n",
       "    <tr>\n",
       "      <th>22949</th>\n",
       "      <td>642.748304</td>\n",
       "      <td>-69.440293</td>\n",
       "      <td>3416.932192</td>\n",
       "      <td>-0.000021</td>\n",
       "      <td>2.263760</td>\n",
       "      <td>11.973816</td>\n",
       "      <td>15.769649</td>\n",
       "      <td>0</td>\n",
       "    </tr>\n",
       "    <tr>\n",
       "      <th>2933</th>\n",
       "      <td>390.978508</td>\n",
       "      <td>796.070983</td>\n",
       "      <td>3405.991466</td>\n",
       "      <td>0.000016</td>\n",
       "      <td>0.063538</td>\n",
       "      <td>12.008407</td>\n",
       "      <td>1.325758</td>\n",
       "      <td>1</td>\n",
       "    </tr>\n",
       "    <tr>\n",
       "      <th>25373</th>\n",
       "      <td>998.866341</td>\n",
       "      <td>-48.297173</td>\n",
       "      <td>3408.885500</td>\n",
       "      <td>4.374916</td>\n",
       "      <td>22.108935</td>\n",
       "      <td>11.898306</td>\n",
       "      <td>8.031841</td>\n",
       "      <td>0</td>\n",
       "    </tr>\n",
       "    <tr>\n",
       "      <th>24089</th>\n",
       "      <td>-1217.097675</td>\n",
       "      <td>-472.064381</td>\n",
       "      <td>3384.583656</td>\n",
       "      <td>-0.000021</td>\n",
       "      <td>0.108528</td>\n",
       "      <td>13.315131</td>\n",
       "      <td>1.970839</td>\n",
       "      <td>0</td>\n",
       "    </tr>\n",
       "  </tbody>\n",
       "</table>\n",
       "<p>32064 rows × 8 columns</p>\n",
       "</div>"
      ],
      "text/plain": [
       "         PositionX   PositionY    PositionZ  MomentumZ     Length       Time  \\\n",
       "25397  1235.991838  172.931527  3398.407500  -0.000014   0.016439  14.097678   \n",
       "14248   723.459211  686.403874  3388.885500   5.880415  21.900713  11.825751   \n",
       "29990   152.305184 -780.851814  3388.791721   0.000004   0.066142  11.616715   \n",
       "26120  1056.282924  104.445794  3400.651914  -0.000008   0.407024  11.891568   \n",
       "26632   -15.882625  168.011956  3382.569851   0.000044   0.784310  18.588997   \n",
       "...            ...         ...          ...        ...        ...        ...   \n",
       "14075  -302.031591  452.858590  3405.923825  -0.000001   0.082587  28.838355   \n",
       "22949   642.748304  -69.440293  3416.932192  -0.000021   2.263760  11.973816   \n",
       "2933    390.978508  796.070983  3405.991466   0.000016   0.063538  12.008407   \n",
       "25373   998.866341  -48.297173  3408.885500   4.374916  22.108935  11.898306   \n",
       "24089 -1217.097675 -472.064381  3384.583656  -0.000021   0.108528  13.315131   \n",
       "\n",
       "       EnergyDeposit  target  \n",
       "25397       1.200348       0  \n",
       "14248       9.706507       1  \n",
       "29990       1.366802       0  \n",
       "26120       4.862111       0  \n",
       "26632      10.098193       0  \n",
       "...              ...     ...  \n",
       "14075       1.613445       1  \n",
       "22949      15.769649       0  \n",
       "2933        1.325758       1  \n",
       "25373       8.031841       0  \n",
       "24089       1.970839       0  \n",
       "\n",
       "[32064 rows x 8 columns]"
      ]
     },
     "execution_count": 11,
     "metadata": {},
     "output_type": "execute_result"
    }
   ],
   "source": [
    "df"
   ]
  },
  {
   "cell_type": "code",
   "execution_count": 12,
   "metadata": {},
   "outputs": [
    {
     "name": "stdout",
     "output_type": "stream",
     "text": [
      "The shape of dataFrame is (32064, 8)\n"
     ]
    }
   ],
   "source": [
    "print(f\"The shape of dataFrame is {df.shape}\")"
   ]
  },
  {
   "cell_type": "code",
   "execution_count": 13,
   "metadata": {},
   "outputs": [
    {
     "data": {
      "text/html": [
       "<div>\n",
       "<style scoped>\n",
       "    .dataframe tbody tr th:only-of-type {\n",
       "        vertical-align: middle;\n",
       "    }\n",
       "\n",
       "    .dataframe tbody tr th {\n",
       "        vertical-align: top;\n",
       "    }\n",
       "\n",
       "    .dataframe thead th {\n",
       "        text-align: right;\n",
       "    }\n",
       "</style>\n",
       "<table border=\"1\" class=\"dataframe\">\n",
       "  <thead>\n",
       "    <tr style=\"text-align: right;\">\n",
       "      <th></th>\n",
       "      <th>PositionX</th>\n",
       "      <th>PositionY</th>\n",
       "      <th>PositionZ</th>\n",
       "      <th>MomentumZ</th>\n",
       "      <th>Length</th>\n",
       "      <th>Time</th>\n",
       "      <th>EnergyDeposit</th>\n",
       "      <th>target</th>\n",
       "    </tr>\n",
       "  </thead>\n",
       "  <tbody>\n",
       "    <tr>\n",
       "      <th>count</th>\n",
       "      <td>32064.000000</td>\n",
       "      <td>32064.000000</td>\n",
       "      <td>32064.000000</td>\n",
       "      <td>32064.000000</td>\n",
       "      <td>32064.000000</td>\n",
       "      <td>32064.000000</td>\n",
       "      <td>32064.000000</td>\n",
       "      <td>32064.000000</td>\n",
       "    </tr>\n",
       "    <tr>\n",
       "      <th>mean</th>\n",
       "      <td>-8.871539</td>\n",
       "      <td>4.393784</td>\n",
       "      <td>3399.150482</td>\n",
       "      <td>1.491776</td>\n",
       "      <td>11.170539</td>\n",
       "      <td>52.628211</td>\n",
       "      <td>8.950747</td>\n",
       "      <td>0.500000</td>\n",
       "    </tr>\n",
       "    <tr>\n",
       "      <th>std</th>\n",
       "      <td>602.486574</td>\n",
       "      <td>564.796449</td>\n",
       "      <td>11.272248</td>\n",
       "      <td>2.477535</td>\n",
       "      <td>18.679444</td>\n",
       "      <td>412.567364</td>\n",
       "      <td>15.812016</td>\n",
       "      <td>0.500008</td>\n",
       "    </tr>\n",
       "    <tr>\n",
       "      <th>min</th>\n",
       "      <td>-1329.452485</td>\n",
       "      <td>-1317.359817</td>\n",
       "      <td>3378.385500</td>\n",
       "      <td>-1.808409</td>\n",
       "      <td>0.005602</td>\n",
       "      <td>11.286889</td>\n",
       "      <td>1.000439</td>\n",
       "      <td>0.000000</td>\n",
       "    </tr>\n",
       "    <tr>\n",
       "      <th>25%</th>\n",
       "      <td>-460.323744</td>\n",
       "      <td>-411.377258</td>\n",
       "      <td>3388.885500</td>\n",
       "      <td>-0.000003</td>\n",
       "      <td>0.113417</td>\n",
       "      <td>11.640831</td>\n",
       "      <td>1.938401</td>\n",
       "      <td>0.000000</td>\n",
       "    </tr>\n",
       "    <tr>\n",
       "      <th>50%</th>\n",
       "      <td>-3.759830</td>\n",
       "      <td>7.621267</td>\n",
       "      <td>3399.169681</td>\n",
       "      <td>0.000013</td>\n",
       "      <td>1.043752</td>\n",
       "      <td>11.962915</td>\n",
       "      <td>4.746649</td>\n",
       "      <td>0.500000</td>\n",
       "    </tr>\n",
       "    <tr>\n",
       "      <th>75%</th>\n",
       "      <td>442.182341</td>\n",
       "      <td>424.756787</td>\n",
       "      <td>3408.885500</td>\n",
       "      <td>3.770932</td>\n",
       "      <td>21.491536</td>\n",
       "      <td>13.201441</td>\n",
       "      <td>11.860711</td>\n",
       "      <td>1.000000</td>\n",
       "    </tr>\n",
       "    <tr>\n",
       "      <th>max</th>\n",
       "      <td>1318.288773</td>\n",
       "      <td>1322.413236</td>\n",
       "      <td>3419.385500</td>\n",
       "      <td>6.125309</td>\n",
       "      <td>588.925678</td>\n",
       "      <td>10607.011405</td>\n",
       "      <td>1241.174635</td>\n",
       "      <td>1.000000</td>\n",
       "    </tr>\n",
       "  </tbody>\n",
       "</table>\n",
       "</div>"
      ],
      "text/plain": [
       "          PositionX     PositionY     PositionZ     MomentumZ        Length  \\\n",
       "count  32064.000000  32064.000000  32064.000000  32064.000000  32064.000000   \n",
       "mean      -8.871539      4.393784   3399.150482      1.491776     11.170539   \n",
       "std      602.486574    564.796449     11.272248      2.477535     18.679444   \n",
       "min    -1329.452485  -1317.359817   3378.385500     -1.808409      0.005602   \n",
       "25%     -460.323744   -411.377258   3388.885500     -0.000003      0.113417   \n",
       "50%       -3.759830      7.621267   3399.169681      0.000013      1.043752   \n",
       "75%      442.182341    424.756787   3408.885500      3.770932     21.491536   \n",
       "max     1318.288773   1322.413236   3419.385500      6.125309    588.925678   \n",
       "\n",
       "               Time  EnergyDeposit        target  \n",
       "count  32064.000000   32064.000000  32064.000000  \n",
       "mean      52.628211       8.950747      0.500000  \n",
       "std      412.567364      15.812016      0.500008  \n",
       "min       11.286889       1.000439      0.000000  \n",
       "25%       11.640831       1.938401      0.000000  \n",
       "50%       11.962915       4.746649      0.500000  \n",
       "75%       13.201441      11.860711      1.000000  \n",
       "max    10607.011405    1241.174635      1.000000  "
      ]
     },
     "execution_count": 13,
     "metadata": {},
     "output_type": "execute_result"
    }
   ],
   "source": [
    "#Description\n",
    "df.describe()"
   ]
  },
  {
   "cell_type": "code",
   "execution_count": 14,
   "metadata": {},
   "outputs": [
    {
     "name": "stdout",
     "output_type": "stream",
     "text": [
      "0    16032\n",
      "1    16032\n",
      "Name: target, dtype: int64\n"
     ]
    },
    {
     "data": {
      "image/png": "[encoded data removed]",
      "text/plain": [
       "<Figure size 432x288 with 1 Axes>"
      ]
     },
     "metadata": {
      "needs_background": "light"
     },
     "output_type": "display_data"
    }
   ],
   "source": [
    "# Ratio of electrons and pions\n",
    "ratio=df['target'].value_counts()\n",
    "print(ratio)\n",
    "x=['Pions','electrons']\n",
    "sns.barplot(x=x,y=ratio)\n",
    "plt.ylabel(\"count\")\n",
    "plt.xlabel(\"target class\")\n",
    "plt.show()"
   ]
  },
  {
   "cell_type": "code",
   "execution_count": 15,
   "metadata": {},
   "outputs": [
    {
     "data": {
      "image/png": "[encoded data removed]",
      "text/plain": [
       "<Figure size 504x360 with 2 Axes>"
      ]
     },
     "metadata": {
      "needs_background": "light"
     },
     "output_type": "display_data"
    }
   ],
   "source": [
    "plt.figure(figsize=(7,5))\n",
    "sns.heatmap(df.corr(),annot=True)\n",
    "plt.show()"
   ]
  },
  {
   "cell_type": "markdown",
   "metadata": {},
   "source": [
    "we will train simple ML model (Logistic Regression,Random Forest) with default parameters to get a benchmark of what could be the accurcay of the models, then we can train Deep Learning models and comapre both the results"
   ]
  },
  {
   "cell_type": "code",
   "execution_count": 16,
   "metadata": {},
   "outputs": [],
   "source": [
    "#Dependent and independent features\n",
    "X=df.drop(columns=[\"target\"])\n",
    "y=df['target']"
   ]
  },
  {
   "cell_type": "code",
   "execution_count": 17,
   "metadata": {},
   "outputs": [],
   "source": [
    "#Scaling the values in the column to mean =0 and variance =1\n",
    "scaler=StandardScaler()\n",
    "X_scaled=scaler.fit_transform(X)"
   ]
  },
  {
   "cell_type": "code",
   "execution_count": 18,
   "metadata": {},
   "outputs": [],
   "source": [
    "#Train test split 0.2 of 65414=13082\n",
    "x_train,x_test,y_train,y_test=train_test_split(X,y,test_size=0.2,random_state=35)"
   ]
  },
  {
   "cell_type": "code",
   "execution_count": 19,
   "metadata": {},
   "outputs": [
    {
     "name": "stdout",
     "output_type": "stream",
     "text": [
      "The shape of X train is (25651, 7)\n",
      "The shape of X test is (6413, 7)\n"
     ]
    }
   ],
   "source": [
    "print(f\"The shape of X train is {x_train.shape}\")\n",
    "print(f\"The shape of X test is {x_test.shape}\")"
   ]
  },
  {
   "cell_type": "markdown",
   "metadata": {},
   "source": [
    "### Model Training"
   ]
  },
  {
   "cell_type": "code",
   "execution_count": 20,
   "metadata": {},
   "outputs": [],
   "source": [
    "# utility function\n",
    "def validation_report(clf,y_test,x_test):\n",
    "    plot_confusion_matrix(clf,x_test,y_test)\n",
    "    plt.show()\n",
    "    pred=clf.predict(x_test)\n",
    "    print(classification_report(y_test,pred))"
   ]
  },
  {
   "cell_type": "markdown",
   "metadata": {},
   "source": [
    "#### Logistic Regression"
   ]
  },
  {
   "cell_type": "code",
   "execution_count": 21,
   "metadata": {},
   "outputs": [
    {
     "data": {
      "text/plain": [
       "LogisticRegression()"
      ]
     },
     "execution_count": 21,
     "metadata": {},
     "output_type": "execute_result"
    }
   ],
   "source": [
    "model_logistic=LogisticRegression()\n",
    "model_logistic.fit(x_train,y_train)"
   ]
  },
  {
   "cell_type": "code",
   "execution_count": 22,
   "metadata": {},
   "outputs": [
    {
     "name": "stderr",
     "output_type": "stream",
     "text": [
      "/home/nilay/.local/lib/python3.8/site-packages/sklearn/utils/deprecation.py:87: FutureWarning: Function plot_confusion_matrix is deprecated; Function `plot_confusion_matrix` is deprecated in 1.0 and will be removed in 1.2. Use one of the class methods: ConfusionMatrixDisplay.from_predictions or ConfusionMatrixDisplay.from_estimator.\n",
      "  warnings.warn(msg, category=FutureWarning)\n"
     ]
    },
    {
     "data": {
      "image/png": "[encoded data removed]",
      "text/plain": [
       "<Figure size 432x288 with 2 Axes>"
      ]
     },
     "metadata": {
      "needs_background": "light"
     },
     "output_type": "display_data"
    },
    {
     "name": "stdout",
     "output_type": "stream",
     "text": [
      "              precision    recall  f1-score   support\n",
      "\n",
      "           0       0.56      0.75      0.64      3157\n",
      "           1       0.63      0.42      0.51      3256\n",
      "\n",
      "    accuracy                           0.58      6413\n",
      "   macro avg       0.59      0.58      0.57      6413\n",
      "weighted avg       0.59      0.58      0.57      6413\n",
      "\n"
     ]
    }
   ],
   "source": [
    "validation_report(model_logistic,y_test,x_test)"
   ]
  },
  {
   "cell_type": "markdown",
   "metadata": {},
   "source": [
    "#### Random Forest"
   ]
  },
  {
   "cell_type": "code",
   "execution_count": 23,
   "metadata": {},
   "outputs": [
    {
     "data": {
      "text/plain": [
       "RandomForestClassifier()"
      ]
     },
     "execution_count": 23,
     "metadata": {},
     "output_type": "execute_result"
    }
   ],
   "source": [
    "model_rf=RandomForestClassifier()\n",
    "model_rf.fit(x_train,y_train)"
   ]
  },
  {
   "cell_type": "code",
   "execution_count": 24,
   "metadata": {},
   "outputs": [
    {
     "name": "stderr",
     "output_type": "stream",
     "text": [
      "/home/nilay/.local/lib/python3.8/site-packages/sklearn/utils/deprecation.py:87: FutureWarning: Function plot_confusion_matrix is deprecated; Function `plot_confusion_matrix` is deprecated in 1.0 and will be removed in 1.2. Use one of the class methods: ConfusionMatrixDisplay.from_predictions or ConfusionMatrixDisplay.from_estimator.\n",
      "  warnings.warn(msg, category=FutureWarning)\n"
     ]
    },
    {
     "data": {
      "image/png": "[encoded data removed]",
      "text/plain": [
       "<Figure size 432x288 with 2 Axes>"
      ]
     },
     "metadata": {
      "needs_background": "light"
     },
     "output_type": "display_data"
    },
    {
     "name": "stdout",
     "output_type": "stream",
     "text": [
      "              precision    recall  f1-score   support\n",
      "\n",
      "           0       0.80      0.90      0.85      3157\n",
      "           1       0.89      0.78      0.83      3256\n",
      "\n",
      "    accuracy                           0.84      6413\n",
      "   macro avg       0.85      0.84      0.84      6413\n",
      "weighted avg       0.85      0.84      0.84      6413\n",
      "\n"
     ]
    }
   ],
   "source": [
    "validation_report(model_rf,y_test,x_test)"
   ]
  },
  {
   "cell_type": "markdown",
   "metadata": {},
   "source": [
    "### Xgboost"
   ]
  },
  {
   "cell_type": "code",
   "execution_count": 25,
   "metadata": {},
   "outputs": [
    {
     "name": "stdout",
     "output_type": "stream",
     "text": [
      "[21:54:19] WARNING: ../src/learner.cc:1095: Starting in XGBoost 1.3.0, the default evaluation metric used with the objective 'binary:logistic' was changed from 'error' to 'logloss'. Explicitly set eval_metric if you'd like to restore the old behavior.\n"
     ]
    },
    {
     "name": "stderr",
     "output_type": "stream",
     "text": [
      "/home/nilay/.local/lib/python3.8/site-packages/xgboost/sklearn.py:1146: UserWarning: The use of label encoder in XGBClassifier is deprecated and will be removed in a future release. To remove this warning, do the following: 1) Pass option use_label_encoder=False when constructing XGBClassifier object; and 2) Encode your labels (y) as integers starting with 0, i.e. 0, 1, 2, ..., [num_class - 1].\n",
      "  warnings.warn(label_encoder_deprecation_msg, UserWarning)\n"
     ]
    },
    {
     "data": {
      "text/plain": [
       "XGBClassifier(base_score=0.5, booster='gbtree', colsample_bylevel=1,\n",
       "              colsample_bynode=1, colsample_bytree=1, gamma=0, gpu_id=-1,\n",
       "              importance_type='gain', interaction_constraints='',\n",
       "              learning_rate=0.300000012, max_delta_step=0, max_depth=6,\n",
       "              min_child_weight=1, missing=nan, monotone_constraints='()',\n",
       "              n_estimators=100, n_jobs=8, num_parallel_tree=1, random_state=0,\n",
       "              reg_alpha=0, reg_lambda=1, scale_pos_weight=1, subsample=1,\n",
       "              tree_method='exact', validate_parameters=1, verbosity=None)"
      ]
     },
     "execution_count": 25,
     "metadata": {},
     "output_type": "execute_result"
    }
   ],
   "source": [
    "model_xg=xgb.XGBClassifier()\n",
    "model_xg.fit(x_train,y_train)"
   ]
  },
  {
   "cell_type": "code",
   "execution_count": 26,
   "metadata": {},
   "outputs": [
    {
     "name": "stderr",
     "output_type": "stream",
     "text": [
      "/home/nilay/.local/lib/python3.8/site-packages/sklearn/utils/deprecation.py:87: FutureWarning: Function plot_confusion_matrix is deprecated; Function `plot_confusion_matrix` is deprecated in 1.0 and will be removed in 1.2. Use one of the class methods: ConfusionMatrixDisplay.from_predictions or ConfusionMatrixDisplay.from_estimator.\n",
      "  warnings.warn(msg, category=FutureWarning)\n"
     ]
    },
    {
     "data": {
      "image/png": "[encoded data removed]",
      "text/plain": [
       "<Figure size 432x288 with 2 Axes>"
      ]
     },
     "metadata": {
      "needs_background": "light"
     },
     "output_type": "display_data"
    },
    {
     "name": "stdout",
     "output_type": "stream",
     "text": [
      "              precision    recall  f1-score   support\n",
      "\n",
      "           0       0.81      0.89      0.85      3157\n",
      "           1       0.88      0.79      0.83      3256\n",
      "\n",
      "    accuracy                           0.84      6413\n",
      "   macro avg       0.84      0.84      0.84      6413\n",
      "weighted avg       0.85      0.84      0.84      6413\n",
      "\n"
     ]
    }
   ],
   "source": [
    "validation_report(model_xg,y_test,x_test)"
   ]
  },
  {
   "cell_type": "markdown",
   "metadata": {},
   "source": [
    "# ROC AUC "
   ]
  },
  {
   "cell_type": "code",
   "execution_count": 27,
   "metadata": {},
   "outputs": [],
   "source": [
    "def roc_plot(y_test,predictions):\n",
    "  fpr, tpr, thresholds=roc_curve(y_test,predictions)\n",
    "  plt.figure(figsize=(7,7))\n",
    "  plt.plot([0, 1], [0, 1], '--',color='red',label='Thresold')\n",
    "  plt.plot(fpr, tpr,color='blue',label='Custom_svm')\n",
    "  plt.ylabel('True positive rate(Recall)')\n",
    "  plt.xlabel('False positive rate')\n",
    "  plt.title('ROC')\n",
    "  plt.grid()\n",
    "  plt.legend()\n",
    "  plt.show()\n",
    "  print(f\"The fpr is {fpr}, the tpr is {tpr}\")"
   ]
  },
  {
   "cell_type": "code",
   "execution_count": 28,
   "metadata": {},
   "outputs": [
    {
     "data": {
      "image/png": "[encoded data removed]",
      "text/plain": [
       "<Figure size 504x504 with 1 Axes>"
      ]
     },
     "metadata": {
      "needs_background": "light"
     },
     "output_type": "display_data"
    }
   ],
   "source": [
    "y_logist=model_logistic.predict(x_test)\n",
    "y_rf=model_rf.predict(x_test)\n",
    "y_xg=model_xg.predict(x_test)\n",
    "\n",
    "fpr_logist, tpr_logist ,thresholds2=roc_curve(y_test,y_logist)\n",
    "fpr_rf, tpr_rf, thresholds3=roc_curve(y_test,y_rf)\n",
    "fpr_xg, tpr_xg, thresholds4 =roc_curve(y_test,y_xg)\n",
    "\n",
    "plt.figure(figsize=(7,7))\n",
    "plt.plot([0, 1], [0, 1], '--',color='red',label='Thresold')\n",
    "plt.plot(fpr_logist, tpr_logist,color='black',label='Logistic Regression')\n",
    "plt.plot(fpr_rf, tpr_rf,color='green',label='Random Forest')\n",
    "plt.plot(fpr_xg, tpr_xg,color='Blue',label='Xg Boost')\n",
    "plt.ylabel('True positive rate(Recall)')\n",
    "plt.xlabel('False positive rate')\n",
    "plt.title('ROC AUC')\n",
    "plt.grid()\n",
    "plt.legend()\n",
    "plt.show()"
   ]
  },
  {
   "cell_type": "code",
   "execution_count": null,
   "metadata": {},
   "outputs": [],
   "source": []
  },
  {
   "cell_type": "code",
   "execution_count": null,
   "metadata": {},
   "outputs": [],
   "source": []
  }
 ],
 "metadata": {
  "kernelspec": {
   "display_name": "Python 3",
   "language": "python",
   "name": "python3"
  },
  "language_info": {
   "codemirror_mode": {
    "name": "ipython",
    "version": 3
   },
   "file_extension": ".py",
   "mimetype": "text/x-python",
   "name": "python",
   "nbconvert_exporter": "python",
   "pygments_lexer": "ipython3",
   "version": "3.8.10"
  }
 },
 "nbformat": 4,
 "nbformat_minor": 4
}
